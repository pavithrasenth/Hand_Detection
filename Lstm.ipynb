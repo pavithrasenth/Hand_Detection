{
  "nbformat": 4,
  "nbformat_minor": 0,
  "metadata": {
    "colab": {
      "provenance": [],
      "authorship_tag": "ABX9TyOrtHuRLzSZcdcBoXuwabRn",
      "include_colab_link": true
    },
    "kernelspec": {
      "name": "python3",
      "display_name": "Python 3"
    },
    "language_info": {
      "name": "python"
    }
  },
  "cells": [
    {
      "cell_type": "markdown",
      "metadata": {
        "id": "view-in-github",
        "colab_type": "text"
      },
      "source": [
        "<a href=\"https://colab.research.google.com/github/pavithrasenth/Hand_Detection/blob/main/Lstm.ipynb\" target=\"_parent\"><img src=\"https://colab.research.google.com/assets/colab-badge.svg\" alt=\"Open In Colab\"/></a>"
      ]
    },
    {
      "cell_type": "code",
      "execution_count": 1,
      "metadata": {
        "id": "o7lot3WPsi6B"
      },
      "outputs": [],
      "source": [
        "import pandas as pd\n",
        "import re\n",
        "import torch\n",
        "import torch.nn as nn\n",
        "import torch.optim as optim\n",
        "from torch.utils.data import Dataset, DataLoader\n",
        "from collections import Counter\n",
        "from sklearn.model_selection import train_test_split"
      ]
    },
    {
      "cell_type": "code",
      "source": [
        "from google.colab import files\n",
        "uploaded = files.upload()\n",
        "\n",
        "import pandas as pd\n",
        "df = pd.read_csv(\"medium_articles.csv\")\n",
        "texts = df['text'].dropna().tolist()"
      ],
      "metadata": {
        "id": "pbE6LivSwzNC",
        "colab": {
          "base_uri": "https://localhost:8080/",
          "height": 73
        },
        "outputId": "2b055040-058c-4bc0-d777-47af9ac21d5d"
      },
      "execution_count": 5,
      "outputs": [
        {
          "output_type": "display_data",
          "data": {
            "text/plain": [
              "<IPython.core.display.HTML object>"
            ],
            "text/html": [
              "\n",
              "     <input type=\"file\" id=\"files-ed68f149-cdb9-435a-afdd-a3e8c430b4a0\" name=\"files[]\" multiple disabled\n",
              "        style=\"border:none\" />\n",
              "     <output id=\"result-ed68f149-cdb9-435a-afdd-a3e8c430b4a0\">\n",
              "      Upload widget is only available when the cell has been executed in the\n",
              "      current browser session. Please rerun this cell to enable.\n",
              "      </output>\n",
              "      <script>// Copyright 2017 Google LLC\n",
              "//\n",
              "// Licensed under the Apache License, Version 2.0 (the \"License\");\n",
              "// you may not use this file except in compliance with the License.\n",
              "// You may obtain a copy of the License at\n",
              "//\n",
              "//      http://www.apache.org/licenses/LICENSE-2.0\n",
              "//\n",
              "// Unless required by applicable law or agreed to in writing, software\n",
              "// distributed under the License is distributed on an \"AS IS\" BASIS,\n",
              "// WITHOUT WARRANTIES OR CONDITIONS OF ANY KIND, either express or implied.\n",
              "// See the License for the specific language governing permissions and\n",
              "// limitations under the License.\n",
              "\n",
              "/**\n",
              " * @fileoverview Helpers for google.colab Python module.\n",
              " */\n",
              "(function(scope) {\n",
              "function span(text, styleAttributes = {}) {\n",
              "  const element = document.createElement('span');\n",
              "  element.textContent = text;\n",
              "  for (const key of Object.keys(styleAttributes)) {\n",
              "    element.style[key] = styleAttributes[key];\n",
              "  }\n",
              "  return element;\n",
              "}\n",
              "\n",
              "// Max number of bytes which will be uploaded at a time.\n",
              "const MAX_PAYLOAD_SIZE = 100 * 1024;\n",
              "\n",
              "function _uploadFiles(inputId, outputId) {\n",
              "  const steps = uploadFilesStep(inputId, outputId);\n",
              "  const outputElement = document.getElementById(outputId);\n",
              "  // Cache steps on the outputElement to make it available for the next call\n",
              "  // to uploadFilesContinue from Python.\n",
              "  outputElement.steps = steps;\n",
              "\n",
              "  return _uploadFilesContinue(outputId);\n",
              "}\n",
              "\n",
              "// This is roughly an async generator (not supported in the browser yet),\n",
              "// where there are multiple asynchronous steps and the Python side is going\n",
              "// to poll for completion of each step.\n",
              "// This uses a Promise to block the python side on completion of each step,\n",
              "// then passes the result of the previous step as the input to the next step.\n",
              "function _uploadFilesContinue(outputId) {\n",
              "  const outputElement = document.getElementById(outputId);\n",
              "  const steps = outputElement.steps;\n",
              "\n",
              "  const next = steps.next(outputElement.lastPromiseValue);\n",
              "  return Promise.resolve(next.value.promise).then((value) => {\n",
              "    // Cache the last promise value to make it available to the next\n",
              "    // step of the generator.\n",
              "    outputElement.lastPromiseValue = value;\n",
              "    return next.value.response;\n",
              "  });\n",
              "}\n",
              "\n",
              "/**\n",
              " * Generator function which is called between each async step of the upload\n",
              " * process.\n",
              " * @param {string} inputId Element ID of the input file picker element.\n",
              " * @param {string} outputId Element ID of the output display.\n",
              " * @return {!Iterable<!Object>} Iterable of next steps.\n",
              " */\n",
              "function* uploadFilesStep(inputId, outputId) {\n",
              "  const inputElement = document.getElementById(inputId);\n",
              "  inputElement.disabled = false;\n",
              "\n",
              "  const outputElement = document.getElementById(outputId);\n",
              "  outputElement.innerHTML = '';\n",
              "\n",
              "  const pickedPromise = new Promise((resolve) => {\n",
              "    inputElement.addEventListener('change', (e) => {\n",
              "      resolve(e.target.files);\n",
              "    });\n",
              "  });\n",
              "\n",
              "  const cancel = document.createElement('button');\n",
              "  inputElement.parentElement.appendChild(cancel);\n",
              "  cancel.textContent = 'Cancel upload';\n",
              "  const cancelPromise = new Promise((resolve) => {\n",
              "    cancel.onclick = () => {\n",
              "      resolve(null);\n",
              "    };\n",
              "  });\n",
              "\n",
              "  // Wait for the user to pick the files.\n",
              "  const files = yield {\n",
              "    promise: Promise.race([pickedPromise, cancelPromise]),\n",
              "    response: {\n",
              "      action: 'starting',\n",
              "    }\n",
              "  };\n",
              "\n",
              "  cancel.remove();\n",
              "\n",
              "  // Disable the input element since further picks are not allowed.\n",
              "  inputElement.disabled = true;\n",
              "\n",
              "  if (!files) {\n",
              "    return {\n",
              "      response: {\n",
              "        action: 'complete',\n",
              "      }\n",
              "    };\n",
              "  }\n",
              "\n",
              "  for (const file of files) {\n",
              "    const li = document.createElement('li');\n",
              "    li.append(span(file.name, {fontWeight: 'bold'}));\n",
              "    li.append(span(\n",
              "        `(${file.type || 'n/a'}) - ${file.size} bytes, ` +\n",
              "        `last modified: ${\n",
              "            file.lastModifiedDate ? file.lastModifiedDate.toLocaleDateString() :\n",
              "                                    'n/a'} - `));\n",
              "    const percent = span('0% done');\n",
              "    li.appendChild(percent);\n",
              "\n",
              "    outputElement.appendChild(li);\n",
              "\n",
              "    const fileDataPromise = new Promise((resolve) => {\n",
              "      const reader = new FileReader();\n",
              "      reader.onload = (e) => {\n",
              "        resolve(e.target.result);\n",
              "      };\n",
              "      reader.readAsArrayBuffer(file);\n",
              "    });\n",
              "    // Wait for the data to be ready.\n",
              "    let fileData = yield {\n",
              "      promise: fileDataPromise,\n",
              "      response: {\n",
              "        action: 'continue',\n",
              "      }\n",
              "    };\n",
              "\n",
              "    // Use a chunked sending to avoid message size limits. See b/62115660.\n",
              "    let position = 0;\n",
              "    do {\n",
              "      const length = Math.min(fileData.byteLength - position, MAX_PAYLOAD_SIZE);\n",
              "      const chunk = new Uint8Array(fileData, position, length);\n",
              "      position += length;\n",
              "\n",
              "      const base64 = btoa(String.fromCharCode.apply(null, chunk));\n",
              "      yield {\n",
              "        response: {\n",
              "          action: 'append',\n",
              "          file: file.name,\n",
              "          data: base64,\n",
              "        },\n",
              "      };\n",
              "\n",
              "      let percentDone = fileData.byteLength === 0 ?\n",
              "          100 :\n",
              "          Math.round((position / fileData.byteLength) * 100);\n",
              "      percent.textContent = `${percentDone}% done`;\n",
              "\n",
              "    } while (position < fileData.byteLength);\n",
              "  }\n",
              "\n",
              "  // All done.\n",
              "  yield {\n",
              "    response: {\n",
              "      action: 'complete',\n",
              "    }\n",
              "  };\n",
              "}\n",
              "\n",
              "scope.google = scope.google || {};\n",
              "scope.google.colab = scope.google.colab || {};\n",
              "scope.google.colab._files = {\n",
              "  _uploadFiles,\n",
              "  _uploadFilesContinue,\n",
              "};\n",
              "})(self);\n",
              "</script> "
            ]
          },
          "metadata": {}
        },
        {
          "output_type": "stream",
          "name": "stdout",
          "text": [
            "Saving medium_articles.csv to medium_articles (2).csv\n"
          ]
        }
      ]
    },
    {
      "cell_type": "code",
      "source": [
        "def clean_text(text):\n",
        "    text = text.lower()\n",
        "    text = re.sub(r'[^a-zA-Z0-9\\s]', '', text)\n",
        "    return text\n",
        "\n",
        "sentences = []\n",
        "for t in texts[:5000]:\n",
        "    for s in t.split(\".\"):\n",
        "        s = clean_text(s).strip()\n",
        "        if len(s.split()):\n",
        "            sentences.append(s)"
      ],
      "metadata": {
        "id": "ViCwHy7Kz2fp"
      },
      "execution_count": 7,
      "outputs": []
    },
    {
      "cell_type": "code",
      "source": [
        "all_words = [word for s in sentences for word in s.split()]\n",
        "word_counts = Counter(all_words)\n",
        "vocab = {w: i+2 for i, (w, _) in enumerate(word_counts.most_common())}\n",
        "vocab[\"<PAD>\"] = 0\n",
        "vocab[\"<UNK>\"] = 1\n",
        "\n",
        "def encode_sentence(sentence):\n",
        "    return [vocab.get(w, 1) for w in sentence.split()]"
      ],
      "metadata": {
        "id": "lvNRgk980LoY"
      },
      "execution_count": 8,
      "outputs": []
    },
    {
      "cell_type": "code",
      "source": [
        "import torch\n",
        "from torch.utils.data import Dataset, DataLoader\n",
        "from sklearn.model_selection import train_test_split\n",
        "\n",
        "class TextDataset(Dataset):\n",
        "    def __init__(self, sentences, vocab, max_len=20):\n",
        "        self.vocab = vocab\n",
        "        self.max_len = max_len\n",
        "        self.data = []\n",
        "        for s in sentences:\n",
        "            words = encode_sentence(s)\n",
        "            if len(words) < 2:\n",
        "                continue\n",
        "            input_seq = words[:-1]\n",
        "            target = words[-1]\n",
        "            if len(input_seq) < max_len:\n",
        "                input_seq = [0]*(max_len-len(input_seq)) + input_seq\n",
        "            else:\n",
        "                input_seq = input_seq[-max_len:]\n",
        "            self.data.append((input_seq, target))\n",
        "\n",
        "    def __len__(self):\n",
        "        return len(self.data)\n",
        "\n",
        "    def __getitem__(self, idx):\n",
        "        return torch.tensor(self.data[idx][0]), torch.tensor(self.data[idx][1])\n",
        "\n",
        "dataset = TextDataset(sentences, vocab)\n",
        "train_data, test_data = train_test_split(dataset, test_size=0.1, random_state=42)\n",
        "\n",
        "train_loader = DataLoader(train_data, batch_size=64, shuffle=True)\n",
        "test_loader = DataLoader(test_data, batch_size=64)\n"
      ],
      "metadata": {
        "id": "oB2QXF1m1G9G"
      },
      "execution_count": 11,
      "outputs": []
    },
    {
      "cell_type": "code",
      "source": [
        "class LSTMModel(nn.Module):\n",
        "    def _init_(self, vocab_size, embed_dim, hidden_dim):\n",
        "        super(LSTMModel, self)._init_()\n",
        "        self.embedding = nn.Embedding(vocab_size, embed_dim)\n",
        "        self.lstm = nn.LSTM(embed_dim, hidden_dim, batch_first=True)\n",
        "        self.fc = nn.Linear(hidden_dim, vocab_size)\n",
        "\n",
        "    def forward(self, x):\n",
        "        x = self.embedding(x)\n",
        "        output, (h, c) = self.lstm(x)\n",
        "        out = self.fc(output[:, -1, :])\n",
        "        return out"
      ],
      "metadata": {
        "id": "j_TX14OM1Ocu"
      },
      "execution_count": 12,
      "outputs": []
    },
    {
      "cell_type": "code",
      "source": [
        "import torch\n",
        "import torch.nn as nn\n",
        "\n",
        "class LSTMModel(nn.Module):\n",
        "    def __init__(self, vocab_size, embed_dim, hidden_dim, num_layers=1):\n",
        "        super(LSTMModel, self).__init__()\n",
        "        self.embedding = nn.Embedding(vocab_size, embed_dim)\n",
        "        self.lstm = nn.LSTM(embed_dim, hidden_dim, num_layers, batch_first=True)\n",
        "        self.fc = nn.Linear(hidden_dim, vocab_size)\n",
        "\n",
        "    def forward(self, x):\n",
        "        x = self.embedding(x)\n",
        "        out, _ = self.lstm(x)\n",
        "        out = self.fc(out[:, -1, :])\n",
        "        return out\n"
      ],
      "metadata": {
        "id": "oJANei-111Ve"
      },
      "execution_count": 14,
      "outputs": []
    },
    {
      "cell_type": "code",
      "source": [
        "idx2word = {i: w for w, i in vocab.items()}\n",
        "\n",
        "def predict_last_word(sentence):\n",
        "    model.eval()\n",
        "    words = encode_sentence(clean_text(sentence))\n",
        "    if len(words) < 1:\n",
        "        return None\n",
        "    if len(words) < dataset.max_len:\n",
        "        words = [0]*(dataset.max_len-len(words)) + words\n",
        "    else:\n",
        "        words = words[-dataset.max_len:]\n",
        "    X = torch.tensor(words).unsqueeze(0).to(device)\n",
        "    with torch.no_grad():\n",
        "        output = model(X)\n",
        "        predicted_idx = torch.argmax(output, dim=1).item()\n",
        "    return idx2word.get(predicted_idx, \"<UNK>\")"
      ],
      "metadata": {
        "id": "6CjiEx3L19Su"
      },
      "execution_count": 15,
      "outputs": []
    },
    {
      "cell_type": "code",
      "source": [
        "def predict_last_word(sentence, top_k=5):\n",
        "    model.eval()\n",
        "    words = encode_sentence(clean_text(sentence))\n",
        "    if len(words) < 1:\n",
        "        return None\n",
        "\n",
        "    input_seq = words[-max_len:]\n",
        "    if len(input_seq) < max_len:\n",
        "        input_seq = [0] * (max_len - len(input_seq)) + input_seq\n",
        "\n",
        "    input_tensor = torch.tensor([input_seq]).to(device)\n",
        "\n",
        "    with torch.no_grad():\n",
        "        output = model(input_tensor)\n",
        "        probs = torch.softmax(output, dim=1)\n",
        "        top_idx = torch.topk(probs, top_k).indices[0].tolist()\n",
        "\n",
        "    inv_vocab = {idx: word for word, idx in vocab.items()}\n",
        "    predictions = [inv_vocab.get(idx, \"<UNK>\") for idx in top_idx]\n",
        "\n",
        "    return predictions\n"
      ],
      "metadata": {
        "id": "vL5j9e-62cRs"
      },
      "execution_count": 18,
      "outputs": []
    },
    {
      "cell_type": "code",
      "source": [
        "device = torch.device(\"cuda\" if torch.cuda.is_available() else \"cpu\")\n",
        "model = LSTMModel(len(vocab), embed_dim=128, hidden_dim=256).to(device)\n"
      ],
      "metadata": {
        "id": "zn2lySR725Xz"
      },
      "execution_count": 20,
      "outputs": []
    },
    {
      "cell_type": "code",
      "source": [
        "import torch.optim as optim\n",
        "import torch.nn as nn\n",
        "\n",
        "criterion = nn.CrossEntropyLoss()\n",
        "optimizer = optim.Adam(model.parameters(), lr=0.001)\n",
        "EPOCHS = 5\n",
        "for epoch in range(EPOCHS):\n",
        "    model.train()\n",
        "    total_loss = 0\n",
        "    for X, y in train_loader:\n",
        "        X, y = X.to(device), y.to(device)\n",
        "        optimizer.zero_grad()\n",
        "        output = model(X)\n",
        "        loss = criterion(output, y)\n",
        "        loss.backward()\n",
        "        optimizer.step()\n",
        "        total_loss += loss.item()\n",
        "    print(f\"Epoch {epoch+1}/{EPOCHS}, Loss: {total_loss/len(train_loader):.4f}\")\n"
      ],
      "metadata": {
        "colab": {
          "base_uri": "https://localhost:8080/"
        },
        "id": "SjUjo2gW3OJd",
        "outputId": "0ceee8dd-3352-4f80-f39c-8cafb3e92e28"
      },
      "execution_count": 23,
      "outputs": [
        {
          "output_type": "stream",
          "name": "stdout",
          "text": [
            "Epoch 1/5, Loss: 7.8583\n",
            "Epoch 2/5, Loss: 5.6452\n",
            "Epoch 3/5, Loss: 3.7113\n",
            "Epoch 4/5, Loss: 2.3076\n",
            "Epoch 5/5, Loss: 1.3892\n"
          ]
        }
      ]
    },
    {
      "cell_type": "code",
      "source": [
        "torch.save(model.state_dict(), \"lstm_model.pth\")\n",
        "print(\"Model saved \")\n"
      ],
      "metadata": {
        "colab": {
          "base_uri": "https://localhost:8080/"
        },
        "id": "Fj9O5s3W5YCy",
        "outputId": "b7239a66-6a1f-4b85-cd2c-4fa3d0cb1956"
      },
      "execution_count": 24,
      "outputs": [
        {
          "output_type": "stream",
          "name": "stdout",
          "text": [
            "Model saved \n"
          ]
        }
      ]
    },
    {
      "cell_type": "code",
      "source": [
        "model = LSTMModel(len(vocab), embed_dim=128, hidden_dim=256).to(device)\n",
        "model.load_state_dict(torch.load(\"lstm_model.pth\", map_location=device))\n",
        "model.eval()\n",
        "print(\"Model loaded\")\n"
      ],
      "metadata": {
        "colab": {
          "base_uri": "https://localhost:8080/"
        },
        "id": "F39CFsUH5bE4",
        "outputId": "b9c6dbbb-721b-4f0e-c29a-c9fef98b10d7"
      },
      "execution_count": 25,
      "outputs": [
        {
          "output_type": "stream",
          "name": "stdout",
          "text": [
            "Model loaded\n"
          ]
        }
      ]
    },
    {
      "cell_type": "code",
      "source": [
        "max_len = 20\n"
      ],
      "metadata": {
        "id": "RS7P9kJY50dT"
      },
      "execution_count": 27,
      "outputs": []
    },
    {
      "cell_type": "code",
      "source": [
        "def predict_last_word(sentence, max_len=20, top_k=5):\n",
        "    model.eval()\n",
        "    words = encode_sentence(clean_text(sentence))\n",
        "    if len(words) < 1:\n",
        "        return None\n",
        "\n",
        "    # Pad/truncate to match max_len\n",
        "    input_seq = words[-max_len:]\n",
        "    if len(input_seq) < max_len:\n",
        "        input_seq = [0] * (max_len - len(input_seq)) + input_seq\n",
        "\n",
        "    input_tensor = torch.tensor([input_seq]).to(device)\n",
        "\n",
        "    with torch.no_grad():\n",
        "        output = model(input_tensor)           # logits\n",
        "        probs = torch.softmax(output, dim=1)   # probabilities\n",
        "        top_idx = torch.topk(probs, top_k).indices[0].tolist()\n",
        "\n",
        "    # Convert indices back to words\n",
        "    inv_vocab = {idx: word for word, idx in vocab.items()}\n",
        "    predictions = [inv_vocab.get(idx, \"<UNK>\") for idx in top_idx]\n",
        "\n",
        "    return predictions\n"
      ],
      "metadata": {
        "id": "J_rm_LwF55gJ"
      },
      "execution_count": 28,
      "outputs": []
    },
    {
      "cell_type": "code",
      "source": [
        "print(\"Prediction Example:\")\n",
        "print(\"Input: Deep learning is very\")\n",
        "print(\"Predicted last word:\", predict_last_word(\"Deep learning is very\"))\n"
      ],
      "metadata": {
        "colab": {
          "base_uri": "https://localhost:8080/"
        },
        "id": "zrRiLiJ657cR",
        "outputId": "3864fb52-bcbc-45a5-f63b-06d8c10204fb"
      },
      "execution_count": 29,
      "outputs": [
        {
          "output_type": "stream",
          "name": "stdout",
          "text": [
            "Prediction Example:\n",
            "Input: Deep learning is very\n",
            "Predicted last word: ['encouraging', 'agile', 'different', 'easy', 'important']\n"
          ]
        }
      ]
    }
  ]
}